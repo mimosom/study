{
 "cells": [
  {
   "cell_type": "markdown",
   "metadata": {},
   "source": [
    "# エントロピー/KLダイバージェンス/交差エントロピー/自己相互情報量のPython実装"
   ]
  },
  {
   "cell_type": "markdown",
   "metadata": {},
   "source": [
    "ソースコードはパフォーマンスよりもやっていることの分かりやすさを重視した書き方を心掛けました。"
   ]
  },
  {
   "cell_type": "markdown",
   "metadata": {},
   "source": [
    "## 準備"
   ]
  },
  {
   "cell_type": "code",
   "execution_count": 1,
   "metadata": {},
   "outputs": [],
   "source": [
    "import numpy as np\n",
    "import scipy as sp\n",
    "import seaborn as sns"
   ]
  },
  {
   "cell_type": "code",
   "execution_count": 2,
   "metadata": {},
   "outputs": [],
   "source": [
    "def plot_bar_graph(prob_distro):\n",
    "    \"\"\"確率分布の棒グラフを描画\"\"\"\n",
    "    sns.barplot(x=list(prob_distro.keys()), y=list(prob_distro.values()))"
   ]
  },
  {
   "cell_type": "code",
   "execution_count": 3,
   "metadata": {},
   "outputs": [],
   "source": [
    "# 確率分布A\n",
    "prob_distro_a = {0: 0.25, 1: 0.25, 2: 0.25, 3: 0.25}\n",
    "# 確率分布B\n",
    "prob_distro_b = {0: 0.25, 1: 0.4, 2: 0.2, 3: 0.15}\n",
    "# 確率分布C\n",
    "prob_distro_c = {0: 0.2, 1: 0.1, 2: 0.6, 3: 0.1}"
   ]
  },
  {
   "cell_type": "code",
   "execution_count": 4,
   "metadata": {},
   "outputs": [
    {
     "data": {
      "image/png": "[encoded data removed]",
      "text/plain": [
       "<Figure size 432x288 with 1 Axes>"
      ]
     },
     "metadata": {
      "needs_background": "light"
     },
     "output_type": "display_data"
    }
   ],
   "source": [
    "plot_bar_graph(prob_distro_a)"
   ]
  },
  {
   "cell_type": "code",
   "execution_count": 5,
   "metadata": {},
   "outputs": [
    {
     "data": {
      "image/png": "[encoded data removed]",
      "text/plain": [
       "<Figure size 432x288 with 1 Axes>"
      ]
     },
     "metadata": {
      "needs_background": "light"
     },
     "output_type": "display_data"
    }
   ],
   "source": [
    "plot_bar_graph(prob_distro_b)"
   ]
  },
  {
   "cell_type": "code",
   "execution_count": 6,
   "metadata": {},
   "outputs": [
    {
     "data": {
      "image/png": "[encoded data removed]",
      "text/plain": [
       "<Figure size 432x288 with 1 Axes>"
      ]
     },
     "metadata": {
      "needs_background": "light"
     },
     "output_type": "display_data"
    }
   ],
   "source": [
    "plot_bar_graph(prob_distro_c)"
   ]
  },
  {
   "cell_type": "markdown",
   "metadata": {},
   "source": [
    "## エントロピー\n",
    "\n",
    "確率分布に含まれる値ごとの確率の異なり度合いを表す。確率変数の実現値が何になるのかの予測しにくさ。\n",
    "\n",
    "- 各実現値が同じような確率値をもっている（分布が一様に近い）→エントロピー大\n",
    "- 各実現値の確率値がばらばら→エントロピー小"
   ]
  },
  {
   "cell_type": "code",
   "execution_count": 7,
   "metadata": {},
   "outputs": [],
   "source": [
    "def calc_entropy(prob_distro):\n",
    "    \"\"\"エントロピーを計算\"\"\"\n",
    "    result = 0\n",
    "    for prob in prob_distro.values():\n",
    "        # probが0のときはnp.log2(prob)が-infになってしまうので無視する（H(0)≡0として扱っているのと同義）\n",
    "        if prob == 0:\n",
    "            continue\n",
    "        result += - prob * np.log2(prob)\n",
    "    return result"
   ]
  },
  {
   "cell_type": "code",
   "execution_count": 8,
   "metadata": {},
   "outputs": [
    {
     "data": {
      "text/plain": [
       "2.0"
      ]
     },
     "execution_count": 8,
     "metadata": {},
     "output_type": "execute_result"
    }
   ],
   "source": [
    "# 分布が一様なAはエントロピーが大きい\n",
    "calc_entropy(prob_distro_a)"
   ]
  },
  {
   "cell_type": "code",
   "execution_count": 9,
   "metadata": {},
   "outputs": [
    {
     "data": {
      "text/plain": [
       "1.9037016960573483"
      ]
     },
     "execution_count": 9,
     "metadata": {},
     "output_type": "execute_result"
    }
   ],
   "source": [
    "calc_entropy(prob_distro_b)"
   ]
  },
  {
   "cell_type": "code",
   "execution_count": 10,
   "metadata": {},
   "outputs": [
    {
     "data": {
      "text/plain": [
       "1.5709505944546687"
      ]
     },
     "execution_count": 10,
     "metadata": {},
     "output_type": "execute_result"
    }
   ],
   "source": [
    "# 各確率の異なりの大きい分布Cはエントロピーが小さい\n",
    "calc_entropy(prob_distro_c)"
   ]
  },
  {
   "cell_type": "code",
   "execution_count": 11,
   "metadata": {},
   "outputs": [
    {
     "data": {
      "text/plain": [
       "1.5709505944546687"
      ]
     },
     "execution_count": 11,
     "metadata": {},
     "output_type": "execute_result"
    }
   ],
   "source": [
    "# ちなみにscipyにエントロピーを計算する関数がある\n",
    "sp.stats.entropy(list(prob_distro_c.values()), base=2)"
   ]
  },
  {
   "cell_type": "markdown",
   "metadata": {},
   "source": [
    "## KLダイバージェンス\n",
    "二つの確率分布に対して、それらの異なり度合いを表す。\n",
    "\n",
    "- 二つの分布の異なりが大きい→KLダイバージェンス大\n",
    "- 異なりが小さい→KLダイバージェンス小"
   ]
  },
  {
   "cell_type": "code",
   "execution_count": 12,
   "metadata": {},
   "outputs": [],
   "source": [
    "def calc_kl_div(prob_distro_1, prob_distro_2):\n",
    "    \"\"\"KLダイバージェンスを計算\"\"\"\n",
    "    result = 0\n",
    "    for prob1, prob2 in zip(prob_distro_1.values(), prob_distro_2.values()):\n",
    "        # prob2に0が含まれる場合、KLダイバージェンスは定義より計算できない→スムージングで例外対応することは可能\n",
    "        # https://mathoverflow.net/questions/72668/how-to-compute-kl-divergence-when-pmf-contains-0s\n",
    "        if prob2 == 0:\n",
    "            raise AssertionError(\"KL divergence can't handle zeros.\")\n",
    "        result += prob1 * np.log2(prob1 / prob2)\n",
    "    return result"
   ]
  },
  {
   "cell_type": "code",
   "execution_count": 13,
   "metadata": {},
   "outputs": [
    {
     "data": {
      "text/plain": [
       "0.0"
      ]
     },
     "execution_count": 13,
     "metadata": {},
     "output_type": "execute_result"
    }
   ],
   "source": [
    "# 分布が一致するとKLダイバージェンスは0\n",
    "calc_kl_div(prob_distro_a, prob_distro_a)"
   ]
  },
  {
   "cell_type": "code",
   "execution_count": 14,
   "metadata": {},
   "outputs": [
    {
     "data": {
      "text/plain": [
       "0.09520544598523274"
      ]
     },
     "execution_count": 14,
     "metadata": {},
     "output_type": "execute_result"
    }
   ],
   "source": [
    "calc_kl_div(prob_distro_a, prob_distro_b)"
   ]
  },
  {
   "cell_type": "code",
   "execution_count": 15,
   "metadata": {},
   "outputs": [
    {
     "data": {
      "text/plain": [
       "0.42568746970707333"
      ]
     },
     "execution_count": 15,
     "metadata": {},
     "output_type": "execute_result"
    }
   ],
   "source": [
    "# 分布Aから見た分布Bは、分布Aから見た分布CよりもKLダイバージェンス（異なり）が小さい\n",
    "calc_kl_div(prob_distro_a, prob_distro_c)"
   ]
  },
  {
   "cell_type": "markdown",
   "metadata": {},
   "source": [
    "## 交差エントロピー\n",
    "\n",
    "二つの確率分布P(x), Q(x)の異なり度合いに加えて、P(x)自体のエントロピーを考慮。\n",
    "\n",
    "確率分布Pと分布Qの交差エントロピー＝分布Pのエントロピー＋分布Pから見たQのKLダイバージェンス\n",
    "\n",
    "- P(x)の乱雑さが大きく、かつP(x)から見てQ(x)との分布の異なりが小さい→交差エントロピーが小さい\n",
    "- P(x)が一様に近く、かつP(x)から見てQ(x)との分布の異なりが大きい→交差エントロピーが大きい"
   ]
  },
  {
   "cell_type": "code",
   "execution_count": 16,
   "metadata": {},
   "outputs": [],
   "source": [
    "def calc_cross_entropy(prob_distro_1, prob_distro_2):\n",
    "    \"\"\"交差エントロピーを計算\"\"\"\n",
    "    result_intermediate = 0\n",
    "    for prob1, prob2 in zip(prob_distro_1.values(), prob_distro_2.values()):\n",
    "        if prob2 == 0:\n",
    "            # np.log2(0)=0として扱ってるのと同義\n",
    "            continue\n",
    "        result_intermediate += prob1 * np.log2(prob2)\n",
    "    return -result_intermediate"
   ]
  },
  {
   "cell_type": "code",
   "execution_count": 17,
   "metadata": {},
   "outputs": [
    {
     "data": {
      "text/plain": [
       "2.0"
      ]
     },
     "execution_count": 17,
     "metadata": {},
     "output_type": "execute_result"
    }
   ],
   "source": [
    "# 分布Aのエントロピーに等しい\n",
    "calc_cross_entropy(prob_distro_a, prob_distro_a)"
   ]
  },
  {
   "cell_type": "code",
   "execution_count": 18,
   "metadata": {},
   "outputs": [
    {
     "data": {
      "text/plain": [
       "2.0952054459852327"
      ]
     },
     "execution_count": 18,
     "metadata": {},
     "output_type": "execute_result"
    }
   ],
   "source": [
    "calc_cross_entropy(prob_distro_a, prob_distro_b)"
   ]
  },
  {
   "cell_type": "code",
   "execution_count": 19,
   "metadata": {},
   "outputs": [
    {
     "data": {
      "text/plain": [
       "2.425687469707073"
      ]
     },
     "execution_count": 19,
     "metadata": {},
     "output_type": "execute_result"
    }
   ],
   "source": [
    "# 分布A（一様）かつ分布A、Cは異なりが大きい→交差エントロピー最大\n",
    "calc_cross_entropy(prob_distro_a, prob_distro_c)"
   ]
  },
  {
   "cell_type": "code",
   "execution_count": 20,
   "metadata": {},
   "outputs": [
    {
     "data": {
      "text/plain": [
       "True"
      ]
     },
     "execution_count": 20,
     "metadata": {},
     "output_type": "execute_result"
    }
   ],
   "source": [
    "# 分布Aと分布Bの交差エントロピー＝分布Aのエントロピー＋分布Aから見たBのKLダイバージェンスの和\n",
    "calc_cross_entropy(prob_distro_a, prob_distro_b) == calc_entropy(prob_distro_a) + calc_kl_div(prob_distro_a, prob_distro_b)"
   ]
  },
  {
   "cell_type": "markdown",
   "metadata": {},
   "source": [
    "## 自己相互情報量\n",
    "\n",
    "二つの確率変数の実現値x,yに対して、その共起（関連）度合いを表す。\n",
    "ただし、確率変数X,Yの同時分布が既知である必要がある。\n",
    "\n",
    "- PMIが正（P(x,y)>P(x)P(y)）：x,yが共起しやすい\n",
    "- PMIが負の場合（P(x,y)<P(x)P(y)）：x,yが共起しにくい\n",
    "- PMIが0の場合（P(x,y)=P(x)P(y)）：x,yは共起性なし\n",
    "\n",
    "PMIの絶対値が大きいほど傾向が強い"
   ]
  },
  {
   "cell_type": "code",
   "execution_count": 21,
   "metadata": {},
   "outputs": [
    {
     "data": {
      "text/plain": [
       "True"
      ]
     },
     "execution_count": 21,
     "metadata": {},
     "output_type": "execute_result"
    }
   ],
   "source": [
    "# X,Yの同時確率分布\n",
    "joint_prob_distro_xy = {\n",
    "    0: {0: 0.05, 1: 0.10, 2: 0.10, 3:0.05},\n",
    "    1: {0: 0.05, 1: 0.05, 2: 0.05, 3:0.05},\n",
    "    2: {0: 0.01, 1: 0.02, 2: 0.04, 3:0.03},\n",
    "    3: {0: 0.05, 1: 0.05, 2: 0.20, 3:0.10},\n",
    "}\n",
    "\n",
    "# 同時分布の中身の合計が1になってるか確認\n",
    "sum([sum(prob_distro.values()) for prob_distro in joint_prob_distro_xy.values()]) == 1.0"
   ]
  },
  {
   "cell_type": "code",
   "execution_count": 22,
   "metadata": {},
   "outputs": [],
   "source": [
    "def calc_pmi(x, y, prob_distro_x, prob_distro_y, joint_prob_distro_xy):\n",
    "    \"\"\"自己相互情報量を計算\"\"\"\n",
    "    return np.log2(joint_prob_distro_xy[x][y] / (prob_distro_x[x] * prob_distro_y[y]))"
   ]
  },
  {
   "cell_type": "code",
   "execution_count": 23,
   "metadata": {},
   "outputs": [],
   "source": [
    "# 参考\n",
    "# prob_distro_a = {0: 0.25, 1: 0.25, 2: 0.25, 3: 0.25}\n",
    "# prob_distro_b = {0: 0.25, 1: 0.4, 2: 0.2, 3: 0.15}"
   ]
  },
  {
   "cell_type": "code",
   "execution_count": 24,
   "metadata": {},
   "outputs": [
    {
     "data": {
      "text/plain": [
       "0.0"
      ]
     },
     "execution_count": 24,
     "metadata": {},
     "output_type": "execute_result"
    }
   ],
   "source": [
    "calc_pmi(0, 1, prob_distro_a, prob_distro_b, joint_prob_distro_xy)  # log2(0.1/(0.25*0.4))=log2(1)"
   ]
  },
  {
   "cell_type": "code",
   "execution_count": 25,
   "metadata": {},
   "outputs": [
    {
     "data": {
      "text/plain": [
       "2.0"
      ]
     },
     "execution_count": 25,
     "metadata": {},
     "output_type": "execute_result"
    }
   ],
   "source": [
    "calc_pmi(3, 2, prob_distro_a, prob_distro_b, joint_prob_distro_xy)  # log2(0.2/(0.25*0.2))=log2(4)"
   ]
  },
  {
   "cell_type": "code",
   "execution_count": 26,
   "metadata": {},
   "outputs": [
    {
     "data": {
      "text/plain": [
       "-2.643856189774725"
      ]
     },
     "execution_count": 26,
     "metadata": {},
     "output_type": "execute_result"
    }
   ],
   "source": [
    "calc_pmi(2, 0, prob_distro_a, prob_distro_b, joint_prob_distro_xy)  # log2(0.01/(0.25*0.25))=log2(0.16)"
   ]
  }
 ],
 "metadata": {
  "kernelspec": {
   "display_name": "Python 3",
   "language": "python",
   "name": "python3"
  },
  "language_info": {
   "codemirror_mode": {
    "name": "ipython",
    "version": 3
   },
   "file_extension": ".py",
   "mimetype": "text/x-python",
   "name": "python",
   "nbconvert_exporter": "python",
   "pygments_lexer": "ipython3",
   "version": "3.7.4"
  }
 },
 "nbformat": 4,
 "nbformat_minor": 4
}
