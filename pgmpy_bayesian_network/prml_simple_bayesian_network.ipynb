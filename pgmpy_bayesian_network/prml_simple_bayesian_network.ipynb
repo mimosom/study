{
 "cells": [
  {
   "cell_type": "markdown",
   "metadata": {},
   "source": [
    "# ベイジアンネットワークの実装\n",
    "PRML下巻（P.89）の3変数のベイジアンネットワークをpgmpyを使って実装する。\n",
    "\n",
    "<img src='./image1.png'>"
   ]
  },
  {
   "cell_type": "code",
   "execution_count": 1,
   "metadata": {},
   "outputs": [],
   "source": [
    "import matplotlib\n",
    "import matplotlib.pyplot as plt\n",
    "import networkx as nx\n",
    "\n",
    "from pgmpy.factors.discrete import TabularCPD\n",
    "from pgmpy.inference import VariableElimination\n",
    "from pgmpy.models import BayesianModel\n",
    "\n",
    "%matplotlib inline"
   ]
  },
  {
   "cell_type": "markdown",
   "metadata": {},
   "source": [
    "## モデル定義"
   ]
  },
  {
   "cell_type": "code",
   "execution_count": 2,
   "metadata": {},
   "outputs": [],
   "source": [
    "# ベイジアンネットワークの構造\n",
    "model = BayesianModel([\n",
    "    # ('親ノード', '子ノード')\n",
    "    ('battery', 'gauge'),\n",
    "    ('fuel', 'gauge'),\n",
    "])"
   ]
  },
  {
   "cell_type": "code",
   "execution_count": 3,
   "metadata": {},
   "outputs": [
    {
     "name": "stdout",
     "output_type": "stream",
     "text": [
      "+------------+-----+\n",
      "| battery(0) | 0.1 |\n",
      "+------------+-----+\n",
      "| battery(1) | 0.9 |\n",
      "+------------+-----+\n"
     ]
    }
   ],
   "source": [
    "# 条件付き確率\n",
    "battery_cpd = TabularCPD(\n",
    "    variable='battery',\n",
    "    variable_card=2,\n",
    "    # values[0]: empty, values[1]: full\n",
    "    values=[[.1], [.9]])\n",
    "print(battery_cpd)"
   ]
  },
  {
   "cell_type": "code",
   "execution_count": 4,
   "metadata": {},
   "outputs": [
    {
     "name": "stdout",
     "output_type": "stream",
     "text": [
      "+---------+-----+\n",
      "| fuel(0) | 0.1 |\n",
      "+---------+-----+\n",
      "| fuel(1) | 0.9 |\n",
      "+---------+-----+\n"
     ]
    }
   ],
   "source": [
    "fuel_cpd = TabularCPD(\n",
    "    variable='fuel',\n",
    "    variable_card=2,\n",
    "    # values[0]: empty, values[1]: full\n",
    "    values=[[.1], [.9]])\n",
    "print(fuel_cpd)"
   ]
  },
  {
   "cell_type": "code",
   "execution_count": 5,
   "metadata": {},
   "outputs": [
    {
     "name": "stdout",
     "output_type": "stream",
     "text": [
      "+----------+------------+------------+------------+------------+\n",
      "| battery  | battery(0) | battery(0) | battery(1) | battery(1) |\n",
      "+----------+------------+------------+------------+------------+\n",
      "| fuel     | fuel(0)    | fuel(1)    | fuel(0)    | fuel(1)    |\n",
      "+----------+------------+------------+------------+------------+\n",
      "| gauge(0) | 0.9        | 0.8        | 0.8        | 0.2        |\n",
      "+----------+------------+------------+------------+------------+\n",
      "| gauge(1) | 0.1        | 0.2        | 0.2        | 0.8        |\n",
      "+----------+------------+------------+------------+------------+\n"
     ]
    }
   ],
   "source": [
    "# valuesの与え方は以下のドキュメント参照\n",
    "# https://pgmpy.org/models.html#module-pgmpy.models.BayesianModel\n",
    "gauge_cpd = TabularCPD(\n",
    "    variable='gauge',\n",
    "    variable_card=2,\n",
    "    values = [[.9, .8, .8, .2],\n",
    "             [.1, .2, .2, .8]],\n",
    "    evidence = ['battery', 'fuel'],\n",
    "    evidence_card=[2, 2]\n",
    ")\n",
    "print(gauge_cpd)"
   ]
  },
  {
   "cell_type": "code",
   "execution_count": 6,
   "metadata": {},
   "outputs": [
    {
     "data": {
      "text/plain": [
       "True"
      ]
     },
     "execution_count": 6,
     "metadata": {},
     "output_type": "execute_result"
    }
   ],
   "source": [
    "# CPDをモデルに与える\n",
    "model.add_cpds(battery_cpd, fuel_cpd, gauge_cpd)\n",
    "\n",
    "# CPDを与えたモデルが有効かチェック\n",
    "model.check_model()"
   ]
  },
  {
   "cell_type": "code",
   "execution_count": 16,
   "metadata": {},
   "outputs": [
    {
     "data": {
      "image/png": "[encoded data removed]",
      "text/plain": [
       "<Figure size 432x288 with 1 Axes>"
      ]
     },
     "metadata": {},
     "output_type": "display_data"
    }
   ],
   "source": [
    "# モデルの構造可視化\n",
    "nx.draw(model, with_labels=True)\n",
    "plt.show()"
   ]
  },
  {
   "cell_type": "code",
   "execution_count": 8,
   "metadata": {},
   "outputs": [
    {
     "data": {
      "text/plain": [
       "(battery _|_ fuel)\n",
       "(fuel _|_ battery)"
      ]
     },
     "execution_count": 8,
     "metadata": {},
     "output_type": "execute_result"
    }
   ],
   "source": [
    "# 独立しているノードを確認\n",
    "model.get_independencies()"
   ]
  },
  {
   "cell_type": "markdown",
   "metadata": {},
   "source": [
    "## 推論"
   ]
  },
  {
   "cell_type": "code",
   "execution_count": 9,
   "metadata": {},
   "outputs": [],
   "source": [
    "model_infer = VariableElimination(model)"
   ]
  },
  {
   "cell_type": "code",
   "execution_count": 10,
   "metadata": {},
   "outputs": [
    {
     "name": "stderr",
     "output_type": "stream",
     "text": [
      "Finding Elimination Order: : 100%|██████████| 2/2 [00:00<00:00, 927.02it/s]\n",
      "Eliminating: fuel: 100%|██████████| 2/2 [00:00<00:00, 465.10it/s]\n",
      "Finding Elimination Order: : 100%|██████████| 2/2 [00:00<00:00, 1263.53it/s]\n",
      "Eliminating: battery: 100%|██████████| 2/2 [00:00<00:00, 409.68it/s]"
     ]
    },
    {
     "name": "stdout",
     "output_type": "stream",
     "text": [
      "+------------+----------------+\n",
      "| battery    |   phi(battery) |\n",
      "+============+================+\n",
      "| battery(0) |         0.1000 |\n",
      "+------------+----------------+\n",
      "| battery(1) |         0.9000 |\n",
      "+------------+----------------+\n",
      "+---------+-------------+\n",
      "| fuel    |   phi(fuel) |\n",
      "+=========+=============+\n",
      "| fuel(0) |      0.1000 |\n",
      "+---------+-------------+\n",
      "| fuel(1) |      0.9000 |\n",
      "+---------+-------------+\n"
     ]
    },
    {
     "name": "stderr",
     "output_type": "stream",
     "text": [
      "\n"
     ]
    }
   ],
   "source": [
    "# 確認\n",
    "battery_prob = model_infer.query(variables=['battery'])\n",
    "print(battery_prob)\n",
    "\n",
    "fuel_prob = model_infer.query(variables=['fuel'])\n",
    "print(fuel_prob)"
   ]
  },
  {
   "cell_type": "code",
   "execution_count": 11,
   "metadata": {},
   "outputs": [
    {
     "name": "stderr",
     "output_type": "stream",
     "text": [
      "Finding Elimination Order: : : 0it [00:00, ?it/s]\n",
      "0it [00:00, ?it/s]"
     ]
    },
    {
     "name": "stdout",
     "output_type": "stream",
     "text": [
      "+---------+------------+----------+---------------------------+\n",
      "| fuel    | battery    | gauge    |   phi(fuel,battery,gauge) |\n",
      "+=========+============+==========+===========================+\n",
      "| fuel(0) | battery(0) | gauge(0) |                    0.0090 |\n",
      "+---------+------------+----------+---------------------------+\n",
      "| fuel(0) | battery(0) | gauge(1) |                    0.0010 |\n",
      "+---------+------------+----------+---------------------------+\n",
      "| fuel(0) | battery(1) | gauge(0) |                    0.0720 |\n",
      "+---------+------------+----------+---------------------------+\n",
      "| fuel(0) | battery(1) | gauge(1) |                    0.0180 |\n",
      "+---------+------------+----------+---------------------------+\n",
      "| fuel(1) | battery(0) | gauge(0) |                    0.0720 |\n",
      "+---------+------------+----------+---------------------------+\n",
      "| fuel(1) | battery(0) | gauge(1) |                    0.0180 |\n",
      "+---------+------------+----------+---------------------------+\n",
      "| fuel(1) | battery(1) | gauge(0) |                    0.1620 |\n",
      "+---------+------------+----------+---------------------------+\n",
      "| fuel(1) | battery(1) | gauge(1) |                    0.6480 |\n",
      "+---------+------------+----------+---------------------------+\n"
     ]
    },
    {
     "name": "stderr",
     "output_type": "stream",
     "text": [
      "\n"
     ]
    }
   ],
   "source": [
    "battery_fuel_prob = model_infer.query(variables=['battery', 'fuel', 'gauge'])\n",
    "print(battery_fuel_prob)"
   ]
  },
  {
   "cell_type": "code",
   "execution_count": 12,
   "metadata": {},
   "outputs": [
    {
     "name": "stderr",
     "output_type": "stream",
     "text": [
      "Finding Elimination Order: : 100%|██████████| 2/2 [00:00<00:00, 665.87it/s]\n",
      "Eliminating: battery: 100%|██████████| 2/2 [00:00<00:00, 530.72it/s]"
     ]
    },
    {
     "name": "stdout",
     "output_type": "stream",
     "text": [
      "+----------+--------------+\n",
      "| gauge    |   phi(gauge) |\n",
      "+==========+==============+\n",
      "| gauge(0) |       0.3150 |\n",
      "+----------+--------------+\n",
      "| gauge(1) |       0.6850 |\n",
      "+----------+--------------+\n"
     ]
    },
    {
     "name": "stderr",
     "output_type": "stream",
     "text": [
      "\n"
     ]
    }
   ],
   "source": [
    "gauge_prob = model_infer.query(variables=['gauge'])\n",
    "print(gauge_prob)"
   ]
  },
  {
   "cell_type": "markdown",
   "metadata": {},
   "source": [
    "### P(fuel|gauge=0)を求める\n",
    "\n",
    "<img src='./image2.png'>"
   ]
  },
  {
   "cell_type": "code",
   "execution_count": 13,
   "metadata": {},
   "outputs": [
    {
     "name": "stderr",
     "output_type": "stream",
     "text": [
      "Finding Elimination Order: : 100%|██████████| 1/1 [00:00<00:00, 602.72it/s]\n",
      "Eliminating: battery: 100%|██████████| 1/1 [00:00<00:00, 402.45it/s]"
     ]
    },
    {
     "name": "stdout",
     "output_type": "stream",
     "text": [
      "+---------+-------------+\n",
      "| fuel    |   phi(fuel) |\n",
      "+=========+=============+\n",
      "| fuel(0) |      0.2571 |\n",
      "+---------+-------------+\n",
      "| fuel(1) |      0.7429 |\n",
      "+---------+-------------+\n"
     ]
    },
    {
     "name": "stderr",
     "output_type": "stream",
     "text": [
      "\n"
     ]
    }
   ],
   "source": [
    "fuel0_prob_given_gauge0 = model_infer.query(variables=['fuel'], evidence={'gauge': 0})\n",
    "print(fuel0_prob_given_gauge0)"
   ]
  },
  {
   "cell_type": "code",
   "execution_count": 14,
   "metadata": {},
   "outputs": [
    {
     "name": "stdout",
     "output_type": "stream",
     "text": [
      "0.2571428571428572\n"
     ]
    }
   ],
   "source": [
    "print(fuel0_prob_given_gauge0.values[0])"
   ]
  },
  {
   "cell_type": "markdown",
   "metadata": {},
   "source": [
    "### P(fuel|gauge=0, battery=0)を求める\n",
    "\n",
    "<img src='./image3.png'>"
   ]
  },
  {
   "cell_type": "code",
   "execution_count": 15,
   "metadata": {},
   "outputs": [
    {
     "name": "stderr",
     "output_type": "stream",
     "text": [
      "Finding Elimination Order: : : 0it [00:00, ?it/s]\n",
      "0it [00:00, ?it/s]"
     ]
    },
    {
     "name": "stdout",
     "output_type": "stream",
     "text": [
      "+---------+-------------+\n",
      "| fuel    |   phi(fuel) |\n",
      "+=========+=============+\n",
      "| fuel(0) |      0.1111 |\n",
      "+---------+-------------+\n",
      "| fuel(1) |      0.8889 |\n",
      "+---------+-------------+\n"
     ]
    },
    {
     "name": "stderr",
     "output_type": "stream",
     "text": [
      "\n"
     ]
    }
   ],
   "source": [
    "fuel0_prob_given_gauge0_battery0 = model_infer.query(variables=['fuel'], evidence={'gauge': 0, 'battery': 0})\n",
    "print(fuel0_prob_given_gauge0_battery0)"
   ]
  }
 ],
 "metadata": {
  "kernelspec": {
   "display_name": "Python 3",
   "language": "python",
   "name": "python3"
  },
  "language_info": {
   "codemirror_mode": {
    "name": "ipython",
    "version": 3
   },
   "file_extension": ".py",
   "mimetype": "text/x-python",
   "name": "python",
   "nbconvert_exporter": "python",
   "pygments_lexer": "ipython3",
   "version": "3.7.4"
  }
 },
 "nbformat": 4,
 "nbformat_minor": 4
}
