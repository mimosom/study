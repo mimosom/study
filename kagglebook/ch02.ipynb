{
 "cells": [
  {
   "cell_type": "markdown",
   "metadata": {},
   "source": [
    "# 第2章\n",
    "分析コンペを構成する要素である、タスク、データおよび評価指標を学ぶ。\n",
    "\n",
    "---\n",
    "ソースコードは以下から引用しています: https://github.com/ghmagazine/kagglebook/tree/master/ch02\n",
    "\n",
    "ライセンス: https://github.com/ghmagazine/kagglebook/blob/master/LICENSE"
   ]
  },
  {
   "cell_type": "code",
   "execution_count": 1,
   "metadata": {},
   "outputs": [],
   "source": [
    "import numpy as np\n",
    "import pandas as pd"
   ]
  },
  {
   "cell_type": "markdown",
   "metadata": {},
   "source": [
    "## 閾値最適化の例\n",
    "F1は正例の割合や正しく予測できている割合によって最大になる閾値が異なるため、最適な閾値を求める必要。\n",
    "\n",
    "最適な閾値を求める方法の１つとして、閾値を引数にしてスコアを返す関数を最適化する方法がある。"
   ]
  },
  {
   "cell_type": "code",
   "execution_count": 2,
   "metadata": {},
   "outputs": [],
   "source": [
    "from sklearn.metrics import f1_score\n",
    "from scipy.optimize import minimize"
   ]
  },
  {
   "cell_type": "code",
   "execution_count": 3,
   "metadata": {},
   "outputs": [],
   "source": [
    "# サンプルデータ生成の準備\n",
    "rand = np.random.RandomState(seed=71)\n",
    "train_y_prob = np.linspace(0, 1.0, 10000)"
   ]
  },
  {
   "cell_type": "code",
   "execution_count": 4,
   "metadata": {},
   "outputs": [],
   "source": [
    "# 真の値と予測値が以下のtrain_y, train_pred_probであったとする\n",
    "train_y = pd.Series(rand.uniform(0.0, 1.0, train_y_prob.size) < train_y_prob)\n",
    "train_pred_prob = np.clip(train_y_prob * np.exp(rand.standard_normal(train_y_prob.shape) * 0.3), 0.0, 1.0)"
   ]
  },
  {
   "cell_type": "code",
   "execution_count": 5,
   "metadata": {},
   "outputs": [
    {
     "name": "stdout",
     "output_type": "stream",
     "text": [
      "Trueの数:  4973\n",
      "Falseの数:  5027\n"
     ]
    }
   ],
   "source": [
    "print('Trueの数: ', len(np.where(train_y==True)[0]))\n",
    "print('Falseの数: ', len(np.where(train_y==False)[0]))"
   ]
  },
  {
   "cell_type": "code",
   "execution_count": 6,
   "metadata": {},
   "outputs": [
    {
     "name": "stdout",
     "output_type": "stream",
     "text": [
      "0.5 0.7224831529507862\n"
     ]
    }
   ],
   "source": [
    "# 閾値を0.5とすると、F1は0.722\n",
    "init_threshold = 0.5\n",
    "init_score = f1_score(train_y, train_pred_prob >= init_threshold)\n",
    "print(init_threshold, init_score)"
   ]
  },
  {
   "cell_type": "code",
   "execution_count": 7,
   "metadata": {},
   "outputs": [],
   "source": [
    "# 最適化の目的関数を設定\n",
    "def f1_opt(x):\n",
    "    return -f1_score(train_y, train_pred_prob >= x)"
   ]
  },
  {
   "cell_type": "code",
   "execution_count": 8,
   "metadata": {},
   "outputs": [
    {
     "name": "stdout",
     "output_type": "stream",
     "text": [
      "0.32324218749999983 0.7557317703844165\n"
     ]
    }
   ],
   "source": [
    "# scipy.optimizeのminimizeメソッドで最適な閾値を求める\n",
    "# Nelder-Meadは目的関数が微分可能でなくても使用できる\n",
    "# 求めた最適な閾値をもとにF1を求めると、0.756 となる\n",
    "result = minimize(f1_opt, x0=np.array([0.5]), method='Nelder-Mead')\n",
    "best_threshold = result['x'].item()\n",
    "best_score = f1_score(train_y, train_pred_prob >= best_threshold)\n",
    "print(best_threshold, best_score)"
   ]
  },
  {
   "cell_type": "markdown",
   "metadata": {},
   "source": [
    "→最適な閾値を選ぶことでスコアが改善\n",
    "\n",
    "（最適化でスコアを改善する閾値を選んでいるから当然だが・・・）"
   ]
  }
 ],
 "metadata": {
  "kernelspec": {
   "display_name": "Python 3",
   "language": "python",
   "name": "python3"
  },
  "language_info": {
   "codemirror_mode": {
    "name": "ipython",
    "version": 3
   },
   "file_extension": ".py",
   "mimetype": "text/x-python",
   "name": "python",
   "nbconvert_exporter": "python",
   "pygments_lexer": "ipython3",
   "version": "3.7.3"
  }
 },
 "nbformat": 4,
 "nbformat_minor": 2
}
