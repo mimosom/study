{
 "cells": [
  {
   "cell_type": "markdown",
   "metadata": {},
   "source": [
    "# 第1章\n",
    "Kaggleの[Titanic: Machine Learning from Disaster](https://www.kaggle.com/c/titanic)のデータを使って基本的なテクニックや考え方を学ぶ。\n",
    "\n",
    "---\n",
    "ソースコードは以下を引用しています: https://github.com/ghmagazine/kagglebook/blob/master/ch01/ch01-01-titanic.py\n",
    "\n",
    "ライセンス: https://github.com/ghmagazine/kagglebook/blob/master/LICENSE"
   ]
  },
  {
   "cell_type": "code",
   "execution_count": 1,
   "metadata": {},
   "outputs": [],
   "source": [
    "import numpy as np\n",
    "import pandas as pd"
   ]
  },
  {
   "cell_type": "markdown",
   "metadata": {},
   "source": [
    "## 学習データ、テストデータの読み込み"
   ]
  },
  {
   "cell_type": "code",
   "execution_count": 2,
   "metadata": {},
   "outputs": [],
   "source": [
    "# 学習データ、テストデータの読み込み\n",
    "train = pd.read_csv('data/ch01/train.csv')\n",
    "test = pd.read_csv('data/ch01/test.csv')\n",
    "\n",
    "# 学習データを特徴量と目的変数に分ける\n",
    "train_x = train.drop(['Survived'], axis=1)\n",
    "train_y = train['Survived']\n",
    "\n",
    "# テストデータは特徴量のみなので、そのままでよい\n",
    "test_x = test.copy()"
   ]
  },
  {
   "cell_type": "markdown",
   "metadata": {},
   "source": [
    "## 特徴量作成"
   ]
  },
  {
   "cell_type": "code",
   "execution_count": 3,
   "metadata": {},
   "outputs": [],
   "source": [
    "from sklearn.preprocessing import LabelEncoder\n",
    "\n",
    "# 変数PassengerIdを除外する\n",
    "# （予測に寄与する変数ではなく、入れたままだとモデルが意味のある変数と勘違いしてしまう恐れがある）\n",
    "train_x = train_x.drop(['PassengerId'], axis=1)\n",
    "test_x = test_x.drop(['PassengerId'], axis=1)\n",
    "\n",
    "# 変数Name, Ticket, Cabinを除外する\n",
    "# （上手く使えば予測に有用そうだが、やや煩雑な処理が必要そう）\n",
    "train_x = train_x.drop(['Name', 'Ticket', 'Cabin'], axis=1)\n",
    "test_x = test_x.drop(['Name', 'Ticket', 'Cabin'], axis=1)\n",
    "\n",
    "# それぞれのカテゴリ変数にlabel encodingを適用する\n",
    "# （GBDTでは、文字列をそのまま入れてもエラーとなってしまうため、何らかの方法で数値に変換する必要\n",
    "#  欠損については、GBDTではそのまま扱うことができるため、特に処理を行う必要はない）\n",
    "for c in ['Sex', 'Embarked']:\n",
    "    # 学習データに基づいてどう変換するかを定める\n",
    "    le = LabelEncoder()\n",
    "    le.fit(train_x[c].fillna('NA'))\n",
    "\n",
    "    # 学習データ、テストデータを変換する\n",
    "    train_x[c] = le.transform(train_x[c].fillna('NA'))\n",
    "    test_x[c] = le.transform(test_x[c].fillna('NA'))"
   ]
  },
  {
   "cell_type": "markdown",
   "metadata": {},
   "source": [
    "## モデル作成"
   ]
  },
  {
   "cell_type": "code",
   "execution_count": 4,
   "metadata": {},
   "outputs": [],
   "source": [
    "from xgboost import XGBClassifier\n",
    "\n",
    "# モデルの作成および学習データを与えての学習\n",
    "model = XGBClassifier(n_estimators=20, random_state=71)\n",
    "model.fit(train_x, train_y)\n",
    "\n",
    "# テストデータの予測値を確率で出力する\n",
    "pred = model.predict_proba(test_x)[:, 1]\n",
    "\n",
    "# テストデータの予測値を二値に変換する\n",
    "pred_label = np.where(pred > 0.5, 1, 0)\n",
    "\n",
    "# 提出用ファイルの作成\n",
    "submission = pd.DataFrame({'PassengerId': test['PassengerId'], 'Survived': pred_label})\n",
    "# submission.to_csv('submission_first.csv', index=False)"
   ]
  },
  {
   "cell_type": "markdown",
   "metadata": {},
   "source": [
    "## バリデーション"
   ]
  },
  {
   "cell_type": "code",
   "execution_count": 5,
   "metadata": {},
   "outputs": [
    {
     "name": "stdout",
     "output_type": "stream",
     "text": [
      "logloss: 0.4270, accuracy: 0.8148\n"
     ]
    }
   ],
   "source": [
    "from sklearn.metrics import log_loss, accuracy_score\n",
    "from sklearn.model_selection import KFold\n",
    "\n",
    "# 各foldのスコアを保存するリスト\n",
    "scores_accuracy = []\n",
    "scores_logloss = []\n",
    "\n",
    "# クロスバリデーションを行う\n",
    "# 学習データを4つに分割し、うち1つをバリデーションデータとすることを、バリデーションデータを変えて繰り返す\n",
    "kf = KFold(n_splits=4, shuffle=True, random_state=71)\n",
    "for tr_idx, va_idx in kf.split(train_x):\n",
    "    # 学習データを学習データとバリデーションデータに分ける\n",
    "    tr_x, va_x = train_x.iloc[tr_idx], train_x.iloc[va_idx]\n",
    "    tr_y, va_y = train_y.iloc[tr_idx], train_y.iloc[va_idx]\n",
    "\n",
    "    # モデルの学習を行う\n",
    "    model = XGBClassifier(n_estimators=20, random_state=71)\n",
    "    model.fit(tr_x, tr_y)\n",
    "\n",
    "    # バリデーションデータの予測値を確率で出力する\n",
    "    va_pred = model.predict_proba(va_x)[:, 1]\n",
    "\n",
    "    # バリデーションデータでのスコアを計算する\n",
    "    logloss = log_loss(va_y, va_pred)\n",
    "    accuracy = accuracy_score(va_y, va_pred > 0.5)\n",
    "\n",
    "    # そのfoldのスコアを保存する\n",
    "    scores_logloss.append(logloss)\n",
    "    scores_accuracy.append(accuracy)\n",
    "\n",
    "# 各foldのスコアの平均を出力する\n",
    "logloss = np.mean(scores_logloss)\n",
    "accuracy = np.mean(scores_accuracy)\n",
    "print(f'logloss: {logloss:.4f}, accuracy: {accuracy:.4f}')"
   ]
  },
  {
   "cell_type": "markdown",
   "metadata": {},
   "source": [
    "このコンペの評価指標はaccuracyだが、accuracyは小さな改善をとらえづらいので、合わせてloglossも出力する。\n",
    "\n",
    "loglossは予測確率が外れているほど高いペナルティが与えられ、低いほど良い指標。"
   ]
  },
  {
   "cell_type": "markdown",
   "metadata": {},
   "source": [
    "## モデルチューニング"
   ]
  },
  {
   "cell_type": "code",
   "execution_count": 6,
   "metadata": {},
   "outputs": [
    {
     "name": "stdout",
     "output_type": "stream",
     "text": [
      "max_depth: 7, min_child_weight: 2.0\n"
     ]
    }
   ],
   "source": [
    "import itertools\n",
    "\n",
    "# チューニング候補とするパラメータを準備する\n",
    "param_space = {\n",
    "    'max_depth': [3, 5, 7],\n",
    "    'min_child_weight': [1.0, 2.0, 4.0]\n",
    "}\n",
    "\n",
    "# 探索するハイパーパラメータの組み合わせ\n",
    "param_combinations = itertools.product(param_space['max_depth'], param_space['min_child_weight'])\n",
    "\n",
    "# 各パラメータの組み合わせ、それに対するスコアを保存するリスト\n",
    "params = []\n",
    "scores = []\n",
    "\n",
    "# 各パラメータの組み合わせごとに、クロスバリデーションで評価を行う\n",
    "for max_depth, min_child_weight in param_combinations:\n",
    "\n",
    "    score_folds = []\n",
    "    # クロスバリデーションを行う\n",
    "    # 学習データを4つに分割し、うち1つをバリデーションデータとすることを、バリデーションデータを変えて繰り返す\n",
    "    kf = KFold(n_splits=4, shuffle=True, random_state=123456)\n",
    "    for tr_idx, va_idx in kf.split(train_x):\n",
    "        # 学習データを学習データとバリデーションデータに分ける\n",
    "        tr_x, va_x = train_x.iloc[tr_idx], train_x.iloc[va_idx]\n",
    "        tr_y, va_y = train_y.iloc[tr_idx], train_y.iloc[va_idx]\n",
    "\n",
    "        # モデルの学習を行う\n",
    "        model = XGBClassifier(n_estimators=20, random_state=71,\n",
    "                              max_depth=max_depth, min_child_weight=min_child_weight)\n",
    "        model.fit(tr_x, tr_y)\n",
    "\n",
    "        # バリデーションデータでのスコアを計算し、保存する\n",
    "        va_pred = model.predict_proba(va_x)[:, 1]\n",
    "        logloss = log_loss(va_y, va_pred)\n",
    "        score_folds.append(logloss)\n",
    "\n",
    "    # 各foldのスコアを平均する\n",
    "    score_mean = np.mean(score_folds)\n",
    "\n",
    "    # パラメータの組み合わせ、それに対するスコアを保存する\n",
    "    params.append((max_depth, min_child_weight))\n",
    "    scores.append(score_mean)\n",
    "\n",
    "# 最もスコアが良いものをベストなパラメータとする\n",
    "best_idx = np.argsort(scores)[0]\n",
    "best_param = params[best_idx]\n",
    "print(f'max_depth: {best_param[0]}, min_child_weight: {best_param[1]}')"
   ]
  },
  {
   "cell_type": "markdown",
   "metadata": {},
   "source": [
    "## ロジスティック回帰用の特徴量の作成（アンサンブル用）"
   ]
  },
  {
   "cell_type": "code",
   "execution_count": 7,
   "metadata": {},
   "outputs": [],
   "source": [
    "from sklearn.preprocessing import OneHotEncoder\n",
    "\n",
    "# 元データをコピーする\n",
    "train_x2 = train.drop(['Survived'], axis=1)\n",
    "test_x2 = test.copy()\n",
    "\n",
    "# 変数PassengerIdを除外する\n",
    "train_x2 = train_x2.drop(['PassengerId'], axis=1)\n",
    "test_x2 = test_x2.drop(['PassengerId'], axis=1)\n",
    "\n",
    "# 変数Name, Ticket, Cabinを除外する\n",
    "train_x2 = train_x2.drop(['Name', 'Ticket', 'Cabin'], axis=1)\n",
    "test_x2 = test_x2.drop(['Name', 'Ticket', 'Cabin'], axis=1)\n",
    "\n",
    "# one-hot encodingを行う\n",
    "cat_cols = ['Sex', 'Embarked', 'Pclass']\n",
    "ohe = OneHotEncoder(categories='auto', sparse=False)\n",
    "ohe.fit(train_x2[cat_cols].fillna('NA'))\n",
    "\n",
    "# one-hot encodingのダミー変数の列名を作成する\n",
    "ohe_columns = []\n",
    "for i, c in enumerate(cat_cols):\n",
    "    ohe_columns += [f'{c}_{v}' for v in ohe.categories_[i]]\n",
    "\n",
    "# one-hot encodingによる変換を行う\n",
    "ohe_train_x2 = pd.DataFrame(ohe.transform(train_x2[cat_cols].fillna('NA')), columns=ohe_columns)\n",
    "ohe_test_x2 = pd.DataFrame(ohe.transform(test_x2[cat_cols].fillna('NA')), columns=ohe_columns)\n",
    "\n",
    "# one-hot encoding済みの変数を除外する\n",
    "train_x2 = train_x2.drop(cat_cols, axis=1)\n",
    "test_x2 = test_x2.drop(cat_cols, axis=1)\n",
    "\n",
    "# one-hot encodingで変換された変数を結合する\n",
    "train_x2 = pd.concat([train_x2, ohe_train_x2], axis=1)\n",
    "test_x2 = pd.concat([test_x2, ohe_test_x2], axis=1)\n",
    "\n",
    "# 数値変数の欠損値を学習データの平均で埋める\n",
    "num_cols = ['Age', 'SibSp', 'Parch', 'Fare']\n",
    "for col in num_cols:\n",
    "    train_x2[col].fillna(train_x2[col].mean(), inplace=True)\n",
    "    test_x2[col].fillna(train_x2[col].mean(), inplace=True)\n",
    "\n",
    "# 変数Fareを対数変換する\n",
    "train_x2['Fare'] = np.log1p(train_x2['Fare'])\n",
    "test_x2['Fare'] = np.log1p(test_x2['Fare'])"
   ]
  },
  {
   "cell_type": "markdown",
   "metadata": {},
   "source": [
    "## アンサンブル"
   ]
  },
  {
   "cell_type": "markdown",
   "metadata": {},
   "source": [
    "単一のモデルでのスコアには限界があっても、複数のモデルを組み合わせて予測することでスコアが向上する可能性"
   ]
  },
  {
   "cell_type": "code",
   "execution_count": 8,
   "metadata": {},
   "outputs": [],
   "source": [
    "from sklearn.linear_model import LogisticRegression\n",
    "\n",
    "# xgboostモデル\n",
    "model_xgb = XGBClassifier(n_estimators=20, random_state=71)\n",
    "model_xgb.fit(train_x, train_y)\n",
    "pred_xgb = model_xgb.predict_proba(test_x)[:, 1]\n",
    "\n",
    "# ロジスティック回帰モデル\n",
    "# xgboostモデルとは異なる特徴量を入れる必要があるので、別途train_x2, test_x2を作成した\n",
    "model_lr = LogisticRegression(solver='lbfgs', max_iter=300)\n",
    "model_lr.fit(train_x2, train_y)\n",
    "pred_lr = model_lr.predict_proba(test_x2)[:, 1]\n",
    "\n",
    "# 予測値の加重平均をとる\n",
    "# xgboostの方が精度が高いことを考慮し、大きい重みをかけた加重平均\n",
    "pred = pred_xgb * 0.8 + pred_lr * 0.2\n",
    "pred_label = np.where(pred > 0.5, 1, 0)"
   ]
  }
 ],
 "metadata": {
  "kernelspec": {
   "display_name": "Python 3",
   "language": "python",
   "name": "python3"
  },
  "language_info": {
   "codemirror_mode": {
    "name": "ipython",
    "version": 3
   },
   "file_extension": ".py",
   "mimetype": "text/x-python",
   "name": "python",
   "nbconvert_exporter": "python",
   "pygments_lexer": "ipython3",
   "version": "3.7.3"
  }
 },
 "nbformat": 4,
 "nbformat_minor": 2
}
