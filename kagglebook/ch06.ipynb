{
 "cells": [
  {
   "cell_type": "markdown",
   "metadata": {},
   "source": [
    "# 第6章\n",
    "モデルのハイパーパラメータのチューニングや特徴量の選択によってモデルの精度を高めるテクニックを学ぶ。\n",
    "\n",
    "---\n",
    "ソースコードは以下から引用しています: https://github.com/ghmagazine/kagglebook/tree/master/ch06\n",
    "\n",
    "ライセンス: https://github.com/ghmagazine/kagglebook/blob/master/LICENSE"
   ]
  },
  {
   "cell_type": "markdown",
   "metadata": {},
   "source": [
    "## hyperopt（ベイズ最適化）でGBDTのパラメータチューニングを行う"
   ]
  },
  {
   "cell_type": "markdown",
   "metadata": {},
   "source": [
    "### データの準備"
   ]
  },
  {
   "cell_type": "code",
   "execution_count": 1,
   "metadata": {},
   "outputs": [],
   "source": [
    "import numpy as np\n",
    "import pandas as pd\n",
    "\n",
    "# train_xは学習データ、train_yは目的変数、test_xはテストデータ\n",
    "# pandasのDataFrame, Seriesで保持します。（numpyのarrayで保持することもあります）\n",
    "\n",
    "train = pd.read_csv('data/sample-data/train_preprocessed.csv')\n",
    "train_x = train.drop(['target'], axis=1)\n",
    "train_y = train['target']\n",
    "test_x = pd.read_csv('data/sample-data/test_preprocessed.csv')\n",
    "\n",
    "# 学習データを学習データとバリデーションデータに分ける\n",
    "from sklearn.model_selection import KFold\n",
    "\n",
    "kf = KFold(n_splits=4, shuffle=True, random_state=71)\n",
    "tr_idx, va_idx = list(kf.split(train_x))[0]\n",
    "tr_x, va_x = train_x.iloc[tr_idx], train_x.iloc[va_idx]\n",
    "tr_y, va_y = train_y.iloc[tr_idx], train_y.iloc[va_idx]"
   ]
  },
  {
   "cell_type": "markdown",
   "metadata": {},
   "source": [
    "### モデルの準備"
   ]
  },
  {
   "cell_type": "code",
   "execution_count": 2,
   "metadata": {},
   "outputs": [],
   "source": [
    "# xgboostによる学習・予測を行うクラス\n",
    "import xgboost as xgb\n",
    "\n",
    "\n",
    "class Model:\n",
    "\n",
    "    def __init__(self, params=None):\n",
    "        self.model = None\n",
    "        if params is None:\n",
    "            self.params = {}\n",
    "        else:\n",
    "            self.params = params\n",
    "\n",
    "    def fit(self, tr_x, tr_y, va_x, va_y):\n",
    "        params = {'objective': 'binary:logistic', 'silent': 1, 'random_state': 71}\n",
    "        params.update(self.params)\n",
    "        num_round = 10\n",
    "        dtrain = xgb.DMatrix(tr_x, label=tr_y)\n",
    "        dvalid = xgb.DMatrix(va_x, label=va_y)\n",
    "        watchlist = [(dtrain, 'train'), (dvalid, 'eval')]\n",
    "        self.model = xgb.train(params, dtrain, num_round, evals=watchlist)\n",
    "\n",
    "    def predict(self, x):\n",
    "        data = xgb.DMatrix(x)\n",
    "        pred = self.model.predict(data)\n",
    "        return pred"
   ]
  },
  {
   "cell_type": "markdown",
   "metadata": {},
   "source": [
    "### チューニングしたいパラメータを引数にとり、最小化したい評価指標のスコアを返す関数を作成\n",
    "モデルを引数のパラメータで学習させ、バリデーションデータへの予測を行い、評価指標のスコアを計算する処理を行う"
   ]
  },
  {
   "cell_type": "code",
   "execution_count": 3,
   "metadata": {},
   "outputs": [],
   "source": [
    "from hyperopt import fmin, tpe, hp, STATUS_OK, Trials\n",
    "from sklearn.metrics import log_loss\n",
    "\n",
    "\n",
    "def score(params):\n",
    "    # パラメータを与えたときに最小化する評価指標を指定する\n",
    "    # 具体的には、モデルにパラメータを指定して学習・予測させた場合のスコアを返すようにする\n",
    "\n",
    "    # max_depthの型を整数型に修正する\n",
    "    params['max_depth'] = int(params['max_depth'])\n",
    "\n",
    "    # Modelクラスを定義しているものとする\n",
    "    # Modelクラスは、fitで学習し、predictで予測値の確率を出力する\n",
    "    model = Model(params)\n",
    "    model.fit(tr_x, tr_y, va_x, va_y)\n",
    "    va_pred = model.predict(va_x)\n",
    "    score = log_loss(va_y, va_pred)\n",
    "    print(f'params: {params}, logloss: {score:.4f}')\n",
    "\n",
    "    # 情報を記録しておく\n",
    "    history.append((params, score))\n",
    "\n",
    "    return {'loss': score, 'status': STATUS_OK}"
   ]
  },
  {
   "cell_type": "markdown",
   "metadata": {},
   "source": [
    "### 探索するパラメータ空間を定義 "
   ]
  },
  {
   "cell_type": "code",
   "execution_count": 4,
   "metadata": {},
   "outputs": [],
   "source": [
    "# 探索するパラメータの空間を指定する\n",
    "space = {\n",
    "    'min_child_weight': hp.quniform('min_child_weight', 1, 5, 1),\n",
    "    'max_depth': hp.quniform('max_depth', 3, 9, 1),\n",
    "    'gamma': hp.quniform('gamma', 0, 0.4, 0.1),\n",
    "}"
   ]
  },
  {
   "cell_type": "markdown",
   "metadata": {},
   "source": [
    "### パラメータ探索の実行"
   ]
  },
  {
   "cell_type": "code",
   "execution_count": 5,
   "metadata": {},
   "outputs": [
    {
     "name": "stdout",
     "output_type": "stream",
     "text": [
      "[0]\ttrain-error:0.1408\teval-error:0.1572\n",
      "[1]\ttrain-error:0.133733\teval-error:0.1532\n",
      "[2]\ttrain-error:0.125867\teval-error:0.1504\n",
      "[3]\ttrain-error:0.1212\teval-error:0.1444\n",
      "[4]\ttrain-error:0.1172\teval-error:0.1424\n",
      "[5]\ttrain-error:0.110933\teval-error:0.1392\n",
      "[6]\ttrain-error:0.107467\teval-error:0.1384\n",
      "[7]\ttrain-error:0.104933\teval-error:0.1356\n",
      "[8]\ttrain-error:0.099333\teval-error:0.1256\n",
      "[9]\ttrain-error:0.0956\teval-error:0.1268\n",
      "params: {'gamma': 0.30000000000000004, 'max_depth': 5, 'min_child_weight': 1.0}, logloss: 0.3077\n",
      "[0]\ttrain-error:0.1116\teval-error:0.1428\n",
      "[1]\ttrain-error:0.097733\teval-error:0.1452\n",
      "[2]\ttrain-error:0.091333\teval-error:0.1396\n",
      "[3]\ttrain-error:0.081867\teval-error:0.1316\n",
      "[4]\ttrain-error:0.076533\teval-error:0.1268\n",
      "[5]\ttrain-error:0.068533\teval-error:0.1212\n",
      "[6]\ttrain-error:0.061733\teval-error:0.1184\n",
      "[7]\ttrain-error:0.054667\teval-error:0.1192\n",
      "[8]\ttrain-error:0.0508\teval-error:0.1164\n",
      "[9]\ttrain-error:0.045067\teval-error:0.1148\n",
      "params: {'gamma': 0.1, 'max_depth': 9, 'min_child_weight': 3.0}, logloss: 0.2835\n",
      "[0]\ttrain-error:0.116\teval-error:0.1432\n",
      "[1]\ttrain-error:0.104\teval-error:0.142\n",
      "[2]\ttrain-error:0.096933\teval-error:0.14\n",
      "[3]\ttrain-error:0.089733\teval-error:0.136\n",
      "[4]\ttrain-error:0.0852\teval-error:0.1268\n",
      "[5]\ttrain-error:0.077733\teval-error:0.1248\n",
      "[6]\ttrain-error:0.072533\teval-error:0.1224\n",
      "[7]\ttrain-error:0.0672\teval-error:0.1176\n",
      "[8]\ttrain-error:0.0616\teval-error:0.1116\n",
      "[9]\ttrain-error:0.057733\teval-error:0.1132\n",
      "params: {'gamma': 0.30000000000000004, 'max_depth': 8, 'min_child_weight': 3.0}, logloss: 0.2853\n",
      "[0]\ttrain-error:0.121067\teval-error:0.1472\n",
      "[1]\ttrain-error:0.108\teval-error:0.1408\n",
      "[2]\ttrain-error:0.097733\teval-error:0.1376\n",
      "[3]\ttrain-error:0.094533\teval-error:0.1368\n",
      "[4]\ttrain-error:0.088267\teval-error:0.1288\n",
      "[5]\ttrain-error:0.0848\teval-error:0.1256\n",
      "[6]\ttrain-error:0.078267\teval-error:0.12\n",
      "[7]\ttrain-error:0.074\teval-error:0.1176\n",
      "[8]\ttrain-error:0.0688\teval-error:0.118\n",
      "[9]\ttrain-error:0.064533\teval-error:0.1156\n",
      "params: {'gamma': 0.4, 'max_depth': 8, 'min_child_weight': 4.0}, logloss: 0.2855\n",
      "[0]\ttrain-error:0.141867\teval-error:0.1564\n",
      "[1]\ttrain-error:0.135067\teval-error:0.1512\n",
      "[2]\ttrain-error:0.1268\teval-error:0.1484\n",
      "[3]\ttrain-error:0.122533\teval-error:0.142\n",
      "[4]\ttrain-error:0.119067\teval-error:0.1408\n",
      "[5]\ttrain-error:0.112\teval-error:0.1368\n",
      "[6]\ttrain-error:0.1072\teval-error:0.138\n",
      "[7]\ttrain-error:0.105733\teval-error:0.1344\n",
      "[8]\ttrain-error:0.0996\teval-error:0.1276\n",
      "[9]\ttrain-error:0.096\teval-error:0.1256\n",
      "params: {'gamma': 0.1, 'max_depth': 5, 'min_child_weight': 2.0}, logloss: 0.3082\n",
      "[0]\ttrain-error:0.134267\teval-error:0.156\n",
      "[1]\ttrain-error:0.1244\teval-error:0.1468\n",
      "[2]\ttrain-error:0.1196\teval-error:0.1424\n",
      "[3]\ttrain-error:0.112533\teval-error:0.1412\n",
      "[4]\ttrain-error:0.107467\teval-error:0.1392\n",
      "[5]\ttrain-error:0.103867\teval-error:0.136\n",
      "[6]\ttrain-error:0.0968\teval-error:0.1292\n",
      "[7]\ttrain-error:0.092667\teval-error:0.1288\n",
      "[8]\ttrain-error:0.089733\teval-error:0.1316\n",
      "[9]\ttrain-error:0.0852\teval-error:0.1232\n",
      "params: {'gamma': 0.30000000000000004, 'max_depth': 6, 'min_child_weight': 5.0}, logloss: 0.3005\n",
      "[0]\ttrain-error:0.121067\teval-error:0.1472\n",
      "[1]\ttrain-error:0.108133\teval-error:0.142\n",
      "[2]\ttrain-error:0.0976\teval-error:0.1384\n",
      "[3]\ttrain-error:0.093467\teval-error:0.1308\n",
      "[4]\ttrain-error:0.088667\teval-error:0.1264\n",
      "[5]\ttrain-error:0.082933\teval-error:0.126\n",
      "[6]\ttrain-error:0.078267\teval-error:0.1236\n",
      "[7]\ttrain-error:0.072533\teval-error:0.1212\n",
      "[8]\ttrain-error:0.070133\teval-error:0.1208\n",
      "[9]\ttrain-error:0.066\teval-error:0.1208\n",
      "params: {'gamma': 0.0, 'max_depth': 8, 'min_child_weight': 4.0}, logloss: 0.2858\n",
      "[0]\ttrain-error:0.107867\teval-error:0.1424\n",
      "[1]\ttrain-error:0.095333\teval-error:0.1412\n",
      "[2]\ttrain-error:0.081733\teval-error:0.1312\n",
      "[3]\ttrain-error:0.0736\teval-error:0.1284\n",
      "[4]\ttrain-error:0.0692\teval-error:0.124\n",
      "[5]\ttrain-error:0.063333\teval-error:0.124\n",
      "[6]\ttrain-error:0.055733\teval-error:0.1204\n",
      "[7]\ttrain-error:0.0524\teval-error:0.1184\n",
      "[8]\ttrain-error:0.044667\teval-error:0.1164\n",
      "[9]\ttrain-error:0.040133\teval-error:0.1152\n",
      "params: {'gamma': 0.2, 'max_depth': 8, 'min_child_weight': 1.0}, logloss: 0.2806\n",
      "[0]\ttrain-error:0.116\teval-error:0.1432\n",
      "[1]\ttrain-error:0.104\teval-error:0.142\n",
      "[2]\ttrain-error:0.0964\teval-error:0.14\n",
      "[3]\ttrain-error:0.09\teval-error:0.136\n",
      "[4]\ttrain-error:0.084933\teval-error:0.1264\n",
      "[5]\ttrain-error:0.0776\teval-error:0.1252\n",
      "[6]\ttrain-error:0.072267\teval-error:0.1216\n",
      "[7]\ttrain-error:0.066667\teval-error:0.1212\n",
      "[8]\ttrain-error:0.060133\teval-error:0.1168\n",
      "[9]\ttrain-error:0.056\teval-error:0.1168\n",
      "params: {'gamma': 0.1, 'max_depth': 8, 'min_child_weight': 3.0}, logloss: 0.2858\n",
      "[0]\ttrain-error:0.118933\teval-error:0.1392\n",
      "[1]\ttrain-error:0.105733\teval-error:0.1416\n",
      "[2]\ttrain-error:0.102667\teval-error:0.1376\n",
      "[3]\ttrain-error:0.092533\teval-error:0.1296\n",
      "[4]\ttrain-error:0.086267\teval-error:0.1296\n",
      "[5]\ttrain-error:0.08\teval-error:0.1268\n",
      "[6]\ttrain-error:0.075333\teval-error:0.1272\n",
      "[7]\ttrain-error:0.068667\teval-error:0.1216\n",
      "[8]\ttrain-error:0.0636\teval-error:0.1216\n",
      "[9]\ttrain-error:0.0588\teval-error:0.1164\n",
      "params: {'gamma': 0.1, 'max_depth': 7, 'min_child_weight': 2.0}, logloss: 0.2880\n"
     ]
    },
    {
     "data": {
      "text/plain": [
       "{'gamma': 0.2, 'max_depth': 8.0, 'min_child_weight': 1.0}"
      ]
     },
     "execution_count": 5,
     "metadata": {},
     "output_type": "execute_result"
    }
   ],
   "source": [
    "# hyperoptによるパラメータ探索の実行\n",
    "# 探索回数（100回程度で十分）\n",
    "max_evals = 10  #　ここでは10で試す\n",
    "trials = Trials()\n",
    "history = []\n",
    "fmin(score, space, algo=tpe.suggest, trials=trials, max_evals=max_evals)"
   ]
  },
  {
   "cell_type": "markdown",
   "metadata": {},
   "source": [
    "### 結果の出力"
   ]
  },
  {
   "cell_type": "code",
   "execution_count": 6,
   "metadata": {},
   "outputs": [
    {
     "name": "stdout",
     "output_type": "stream",
     "text": [
      "best params:{'gamma': 0.2, 'max_depth': 8, 'min_child_weight': 1.0}, score:0.2806\n"
     ]
    }
   ],
   "source": [
    "# 記録した情報からパラメータとスコアを出力する\n",
    "# （trialsからも情報が取得できるが、パラメータの取得がやや行いづらいため）\n",
    "history = sorted(history, key=lambda tpl: tpl[1])\n",
    "best = history[0]\n",
    "print(f'best params:{best[0]}, score:{best[1]:.4f}')"
   ]
  },
  {
   "cell_type": "markdown",
   "metadata": {},
   "source": [
    "## GBDTで特徴量の重要度を求める"
   ]
  },
  {
   "cell_type": "code",
   "execution_count": 7,
   "metadata": {},
   "outputs": [
    {
     "name": "stdout",
     "output_type": "stream",
     "text": [
      "xgboost importance\n",
      "[('weight', 2614.0292872053), ('medical_info_a1', 2240.9029885495024), ('height', 1973.3420535613589), ('age', 1442.8326779044812), ('medical_info_a2', 1150.6861457969187)]\n"
     ]
    }
   ],
   "source": [
    "# train_xは学習データ、train_yは目的変数\n",
    "train = pd.read_csv('data/sample-data/train_preprocessed.csv')\n",
    "train_x = train.drop(['target'], axis=1)\n",
    "train_y = train['target']\n",
    "\n",
    "import xgboost as xgb\n",
    "\n",
    "# xgboost\n",
    "dtrain = xgb.DMatrix(train_x, label=train_y)\n",
    "params = {'objective': 'binary:logistic', 'silent': 1, 'random_state': 71}\n",
    "num_round = 50\n",
    "model = xgb.train(params, dtrain, num_round)\n",
    "\n",
    "# 重要度の上位を出力する\n",
    "fscore = model.get_score(importance_type='total_gain')  # デフォルトの頻度ではなくゲインを見る\n",
    "fscore = sorted([(k, v) for k, v in fscore.items()], key=lambda tpl: tpl[1], reverse=True)\n",
    "print('xgboost importance')\n",
    "print(fscore[:5])"
   ]
  }
 ],
 "metadata": {
  "kernelspec": {
   "display_name": "Python 3",
   "language": "python",
   "name": "python3"
  },
  "language_info": {
   "codemirror_mode": {
    "name": "ipython",
    "version": 3
   },
   "file_extension": ".py",
   "mimetype": "text/x-python",
   "name": "python",
   "nbconvert_exporter": "python",
   "pygments_lexer": "ipython3",
   "version": "3.7.3"
  }
 },
 "nbformat": 4,
 "nbformat_minor": 2
}
